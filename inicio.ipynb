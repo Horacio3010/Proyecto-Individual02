{
 "cells": [
  {
   "cell_type": "code",
   "execution_count": 1,
   "metadata": {},
   "outputs": [],
   "source": [
    "#Paso 1 carga de las librerias necesarias\n",
    "\n",
    "import numpy as np\n",
    "import pandas as pd\n",
    "\n",
    "# VISUALIZACION DE DATOS\n",
    "import matplotlib.pyplot as plt\n",
    "import seaborn as sns\n",
    "\n",
    "# ESTADISTICAS\n",
    "from statsmodels.graphics.gofplots import qqplot\n",
    "# Esta funcion compara la distribucion de la muestra con una distribucion normal, \n",
    "# para comprobar si tu muestra se distribuye normalmente o no."
   ]
  },
  {
   "cell_type": "code",
   "execution_count": null,
   "metadata": {},
   "outputs": [],
   "source": [
    "# Cargar los datos en un dataframe\n",
    "VelocidadInternet = pd.read_csv(r'C:\\Users\\oomph\\Documents\\Henry Data Science\\DTS09_Proyecto_Individual02\\historico_velocidad_internet.csv', sep = ',')\n",
    "VelocidadInternet.head()"
   ]
  },
  {
   "cell_type": "code",
   "execution_count": null,
   "metadata": {},
   "outputs": [],
   "source": [
    "# Cargar los datos en un dataframe\n",
    "InternetAcceso = pd.read_csv(r'C:\\Users\\oomph\\Documents\\Henry Data Science\\DTS09_Proyecto_Individual02\\Internet_Accesos-por-velocidad.csv', sep = ',')\n",
    "InternetAcceso.head()"
   ]
  },
  {
   "cell_type": "code",
   "execution_count": null,
   "metadata": {},
   "outputs": [],
   "source": [
    "# Cargar los datos en un dataframe\n",
    "InternetBAF = pd.read_csv(r'C:\\Users\\oomph\\Documents\\Henry Data Science\\DTS09_Proyecto_Individual02\\Internet_BAF.csv', sep = ',')\n",
    "InternetBAF.head()"
   ]
  },
  {
   "cell_type": "code",
   "execution_count": null,
   "metadata": {},
   "outputs": [],
   "source": [
    "# Cargar los datos en un dataframe\n",
    "Internet_Ingresos = pd.read_csv(r'C:\\Users\\oomph\\Documents\\Henry Data Science\\DTS09_Proyecto_Individual02\\Internet_Ingresos.csv', sep = ',')\n",
    "Internet_Ingresos.head()"
   ]
  },
  {
   "cell_type": "code",
   "execution_count": null,
   "metadata": {},
   "outputs": [],
   "source": [
    "# Cargar los datos en un dataframe\n",
    "Internet_Penetracion = pd.read_csv(r'C:\\Users\\oomph\\Documents\\Henry Data Science\\DTS09_Proyecto_Individual02\\Internet_Penetracion.csv', sep = ',')\n",
    "Internet_Penetracion.head()"
   ]
  }
 ],
 "metadata": {
  "kernelspec": {
   "display_name": "Python 3",
   "language": "python",
   "name": "python3"
  },
  "language_info": {
   "codemirror_mode": {
    "name": "ipython",
    "version": 3
   },
   "file_extension": ".py",
   "mimetype": "text/x-python",
   "name": "python",
   "nbconvert_exporter": "python",
   "pygments_lexer": "ipython3",
   "version": "3.10.11"
  },
  "orig_nbformat": 4
 },
 "nbformat": 4,
 "nbformat_minor": 2
}
